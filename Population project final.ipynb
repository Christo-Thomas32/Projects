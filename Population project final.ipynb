{
 "cells": [
  {
   "cell_type": "code",
   "execution_count": 70,
   "id": "62d7d49e",
   "metadata": {},
   "outputs": [
    {
     "data": {
      "text/html": [
       "<div>\n",
       "<style scoped>\n",
       "    .dataframe tbody tr th:only-of-type {\n",
       "        vertical-align: middle;\n",
       "    }\n",
       "\n",
       "    .dataframe tbody tr th {\n",
       "        vertical-align: top;\n",
       "    }\n",
       "\n",
       "    .dataframe thead th {\n",
       "        text-align: right;\n",
       "    }\n",
       "</style>\n",
       "<table border=\"1\" class=\"dataframe\">\n",
       "  <thead>\n",
       "    <tr style=\"text-align: right;\">\n",
       "      <th></th>\n",
       "      <th>Sl No</th>\n",
       "      <th>Continent</th>\n",
       "      <th>Country</th>\n",
       "      <th>Year</th>\n",
       "      <th>Population</th>\n",
       "      <th>Yearly%Change</th>\n",
       "      <th>YearlyChange</th>\n",
       "      <th>Migrants(net)</th>\n",
       "      <th>MedianAge</th>\n",
       "      <th>FertilityRate</th>\n",
       "      <th>UrbanPop%</th>\n",
       "      <th>UrbanPopulation</th>\n",
       "      <th>Country%OfWorldPop</th>\n",
       "      <th>GlobalRank</th>\n",
       "    </tr>\n",
       "  </thead>\n",
       "  <tbody>\n",
       "    <tr>\n",
       "      <th>0</th>\n",
       "      <td>0</td>\n",
       "      <td>Asia</td>\n",
       "      <td>Afghanistan</td>\n",
       "      <td>1955</td>\n",
       "      <td>8270991</td>\n",
       "      <td>1.30</td>\n",
       "      <td>103775</td>\n",
       "      <td>-4000</td>\n",
       "      <td>19.2</td>\n",
       "      <td>7.45</td>\n",
       "      <td>7.1</td>\n",
       "      <td>587818</td>\n",
       "      <td>0.30</td>\n",
       "      <td>48</td>\n",
       "    </tr>\n",
       "    <tr>\n",
       "      <th>1</th>\n",
       "      <td>1</td>\n",
       "      <td>Asia</td>\n",
       "      <td>Afghanistan</td>\n",
       "      <td>1960</td>\n",
       "      <td>8996973</td>\n",
       "      <td>1.70</td>\n",
       "      <td>145196</td>\n",
       "      <td>-4000</td>\n",
       "      <td>18.8</td>\n",
       "      <td>7.45</td>\n",
       "      <td>8.4</td>\n",
       "      <td>755797</td>\n",
       "      <td>0.30</td>\n",
       "      <td>48</td>\n",
       "    </tr>\n",
       "    <tr>\n",
       "      <th>2</th>\n",
       "      <td>2</td>\n",
       "      <td>Asia</td>\n",
       "      <td>Afghanistan</td>\n",
       "      <td>1965</td>\n",
       "      <td>9956320</td>\n",
       "      <td>2.05</td>\n",
       "      <td>191869</td>\n",
       "      <td>-4000</td>\n",
       "      <td>18.4</td>\n",
       "      <td>7.45</td>\n",
       "      <td>9.9</td>\n",
       "      <td>984350</td>\n",
       "      <td>0.30</td>\n",
       "      <td>48</td>\n",
       "    </tr>\n",
       "    <tr>\n",
       "      <th>3</th>\n",
       "      <td>3</td>\n",
       "      <td>Asia</td>\n",
       "      <td>Afghanistan</td>\n",
       "      <td>1970</td>\n",
       "      <td>11173642</td>\n",
       "      <td>2.33</td>\n",
       "      <td>243464</td>\n",
       "      <td>-4000</td>\n",
       "      <td>17.9</td>\n",
       "      <td>7.45</td>\n",
       "      <td>11.6</td>\n",
       "      <td>1295433</td>\n",
       "      <td>0.30</td>\n",
       "      <td>48</td>\n",
       "    </tr>\n",
       "    <tr>\n",
       "      <th>4</th>\n",
       "      <td>4</td>\n",
       "      <td>Asia</td>\n",
       "      <td>Afghanistan</td>\n",
       "      <td>1975</td>\n",
       "      <td>12689160</td>\n",
       "      <td>2.58</td>\n",
       "      <td>303104</td>\n",
       "      <td>-4000</td>\n",
       "      <td>17.3</td>\n",
       "      <td>7.45</td>\n",
       "      <td>13.5</td>\n",
       "      <td>1717422</td>\n",
       "      <td>0.31</td>\n",
       "      <td>48</td>\n",
       "    </tr>\n",
       "  </tbody>\n",
       "</table>\n",
       "</div>"
      ],
      "text/plain": [
       "   Sl No Continent      Country  Year  Population  Yearly%Change  \\\n",
       "0      0      Asia  Afghanistan  1955     8270991           1.30   \n",
       "1      1      Asia  Afghanistan  1960     8996973           1.70   \n",
       "2      2      Asia  Afghanistan  1965     9956320           2.05   \n",
       "3      3      Asia  Afghanistan  1970    11173642           2.33   \n",
       "4      4      Asia  Afghanistan  1975    12689160           2.58   \n",
       "\n",
       "   YearlyChange  Migrants(net)  MedianAge  FertilityRate  UrbanPop%  \\\n",
       "0        103775          -4000       19.2           7.45        7.1   \n",
       "1        145196          -4000       18.8           7.45        8.4   \n",
       "2        191869          -4000       18.4           7.45        9.9   \n",
       "3        243464          -4000       17.9           7.45       11.6   \n",
       "4        303104          -4000       17.3           7.45       13.5   \n",
       "\n",
       "   UrbanPopulation  Country%OfWorldPop  GlobalRank  \n",
       "0           587818                0.30          48  \n",
       "1           755797                0.30          48  \n",
       "2           984350                0.30          48  \n",
       "3          1295433                0.30          48  \n",
       "4          1717422                0.31          48  "
      ]
     },
     "execution_count": 70,
     "metadata": {},
     "output_type": "execute_result"
    }
   ],
   "source": [
    "#import the necessary libraries needed\n",
    "import numpy as np\n",
    "import pandas as pd\n",
    "import matplotlib.pyplot as plt\n",
    "import seaborn as sns\n",
    "from sklearn.linear_model import LinearRegression\n",
    "from sklearn.model_selection import train_test_split\n",
    "from sklearn.preprocessing import LabelEncoder #to normalize the label\n",
    "from sklearn.model_selection import train_test_split #Training and testing the data set \n",
    "from sklearn.tree import DecisionTreeClassifier\n",
    "from sklearn.metrics import accuracy_score #Testing the data\n",
    "p=pd.read_csv(r\"C:\\Users\\chris\\Downloads\\population.csv\")\n",
    "p.head()"
   ]
  },
  {
   "cell_type": "code",
   "execution_count": 71,
   "id": "f1cbada4",
   "metadata": {},
   "outputs": [
    {
     "data": {
      "text/html": [
       "<div>\n",
       "<style scoped>\n",
       "    .dataframe tbody tr th:only-of-type {\n",
       "        vertical-align: middle;\n",
       "    }\n",
       "\n",
       "    .dataframe tbody tr th {\n",
       "        vertical-align: top;\n",
       "    }\n",
       "\n",
       "    .dataframe thead th {\n",
       "        text-align: right;\n",
       "    }\n",
       "</style>\n",
       "<table border=\"1\" class=\"dataframe\">\n",
       "  <thead>\n",
       "    <tr style=\"text-align: right;\">\n",
       "      <th></th>\n",
       "      <th>Sl No</th>\n",
       "      <th>Continent</th>\n",
       "      <th>Country</th>\n",
       "      <th>Year</th>\n",
       "      <th>Population</th>\n",
       "      <th>Yearly%Change</th>\n",
       "      <th>YearlyChange</th>\n",
       "      <th>Migrants(net)</th>\n",
       "      <th>MedianAge</th>\n",
       "      <th>FertilityRate</th>\n",
       "      <th>UrbanPop%</th>\n",
       "      <th>UrbanPopulation</th>\n",
       "      <th>Country%OfWorldPop</th>\n",
       "      <th>GlobalRank</th>\n",
       "    </tr>\n",
       "  </thead>\n",
       "  <tbody>\n",
       "    <tr>\n",
       "      <th>4225</th>\n",
       "      <td>4225</td>\n",
       "      <td>Africa</td>\n",
       "      <td>Zimbabwe</td>\n",
       "      <td>2016</td>\n",
       "      <td>14030331</td>\n",
       "      <td>1.56</td>\n",
       "      <td>215702</td>\n",
       "      <td>-116858</td>\n",
       "      <td>18.5</td>\n",
       "      <td>3.99</td>\n",
       "      <td>37.2</td>\n",
       "      <td>5215894</td>\n",
       "      <td>0.19</td>\n",
       "      <td>74</td>\n",
       "    </tr>\n",
       "    <tr>\n",
       "      <th>4226</th>\n",
       "      <td>4226</td>\n",
       "      <td>Africa</td>\n",
       "      <td>Zimbabwe</td>\n",
       "      <td>2017</td>\n",
       "      <td>14236595</td>\n",
       "      <td>1.47</td>\n",
       "      <td>206264</td>\n",
       "      <td>-116858</td>\n",
       "      <td>18.5</td>\n",
       "      <td>3.99</td>\n",
       "      <td>37.4</td>\n",
       "      <td>5328766</td>\n",
       "      <td>0.19</td>\n",
       "      <td>74</td>\n",
       "    </tr>\n",
       "    <tr>\n",
       "      <th>4227</th>\n",
       "      <td>4227</td>\n",
       "      <td>Africa</td>\n",
       "      <td>Zimbabwe</td>\n",
       "      <td>2018</td>\n",
       "      <td>14438802</td>\n",
       "      <td>1.42</td>\n",
       "      <td>202207</td>\n",
       "      <td>-116858</td>\n",
       "      <td>18.5</td>\n",
       "      <td>3.99</td>\n",
       "      <td>37.7</td>\n",
       "      <td>5447513</td>\n",
       "      <td>0.19</td>\n",
       "      <td>74</td>\n",
       "    </tr>\n",
       "    <tr>\n",
       "      <th>4228</th>\n",
       "      <td>4228</td>\n",
       "      <td>Africa</td>\n",
       "      <td>Zimbabwe</td>\n",
       "      <td>2019</td>\n",
       "      <td>14645468</td>\n",
       "      <td>1.43</td>\n",
       "      <td>206666</td>\n",
       "      <td>-116858</td>\n",
       "      <td>18.5</td>\n",
       "      <td>3.99</td>\n",
       "      <td>38.0</td>\n",
       "      <td>5571525</td>\n",
       "      <td>0.19</td>\n",
       "      <td>74</td>\n",
       "    </tr>\n",
       "    <tr>\n",
       "      <th>4229</th>\n",
       "      <td>4229</td>\n",
       "      <td>Africa</td>\n",
       "      <td>Zimbabwe</td>\n",
       "      <td>2020</td>\n",
       "      <td>14862924</td>\n",
       "      <td>1.48</td>\n",
       "      <td>217456</td>\n",
       "      <td>-116858</td>\n",
       "      <td>18.7</td>\n",
       "      <td>3.63</td>\n",
       "      <td>38.4</td>\n",
       "      <td>5700460</td>\n",
       "      <td>0.19</td>\n",
       "      <td>74</td>\n",
       "    </tr>\n",
       "  </tbody>\n",
       "</table>\n",
       "</div>"
      ],
      "text/plain": [
       "      Sl No Continent   Country  Year  Population  Yearly%Change  \\\n",
       "4225   4225    Africa  Zimbabwe  2016    14030331           1.56   \n",
       "4226   4226    Africa  Zimbabwe  2017    14236595           1.47   \n",
       "4227   4227    Africa  Zimbabwe  2018    14438802           1.42   \n",
       "4228   4228    Africa  Zimbabwe  2019    14645468           1.43   \n",
       "4229   4229    Africa  Zimbabwe  2020    14862924           1.48   \n",
       "\n",
       "      YearlyChange  Migrants(net)  MedianAge  FertilityRate  UrbanPop%  \\\n",
       "4225        215702        -116858       18.5           3.99       37.2   \n",
       "4226        206264        -116858       18.5           3.99       37.4   \n",
       "4227        202207        -116858       18.5           3.99       37.7   \n",
       "4228        206666        -116858       18.5           3.99       38.0   \n",
       "4229        217456        -116858       18.7           3.63       38.4   \n",
       "\n",
       "      UrbanPopulation  Country%OfWorldPop  GlobalRank  \n",
       "4225          5215894                0.19          74  \n",
       "4226          5328766                0.19          74  \n",
       "4227          5447513                0.19          74  \n",
       "4228          5571525                0.19          74  \n",
       "4229          5700460                0.19          74  "
      ]
     },
     "execution_count": 71,
     "metadata": {},
     "output_type": "execute_result"
    }
   ],
   "source": [
    "p.tail()"
    "p.tail()"
   ]
  },
  {
   "cell_type": "code",
   "execution_count": 64,
   "id": "64da9a69",
   "metadata": {},
   "outputs": [
    {
     "data": {
      "text/html": [
       "<div>\n",
       "<style scoped>\n",
       "    .dataframe tbody tr th:only-of-type {\n",
       "        vertical-align: middle;\n",
       "    }\n",
       "\n",
       "    .dataframe tbody tr th {\n",
       "        vertical-align: top;\n",
       "    }\n",
       "\n",
       "    .dataframe thead th {\n",
       "        text-align: right;\n",
       "    }\n",
       "</style>\n",
       "<table border=\"1\" class=\"dataframe\">\n",
       "  <thead>\n",
       "    <tr style=\"text-align: right;\">\n",
       "      <th></th>\n",
       "      <th>Sl No</th>\n",
       "      <th>Year</th>\n",
       "      <th>Population</th>\n",
       "      <th>Yearly%Change</th>\n",
       "      <th>YearlyChange</th>\n",
       "      <th>Migrants(net)</th>\n",
       "      <th>MedianAge</th>\n",
       "      <th>FertilityRate</th>\n",
       "      <th>UrbanPop%</th>\n",
       "      <th>UrbanPopulation</th>\n",
       "      <th>Country%OfWorldPop</th>\n",
       "      <th>GlobalRank</th>\n",
       "    </tr>\n",
       "  </thead>\n",
       "  <tbody>\n",
       "    <tr>\n",
       "      <th>count</th>\n",
       "      <td>4230.000000</td>\n",
       "      <td>4230.000000</td>\n",
       "      <td>4.230000e+03</td>\n",
       "      <td>4230.000000</td>\n",
       "      <td>4.230000e+03</td>\n",
       "      <td>4.230000e+03</td>\n",
       "      <td>4230.000000</td>\n",
       "      <td>4230.000000</td>\n",
       "      <td>4230.000000</td>\n",
       "      <td>4.230000e+03</td>\n",
       "      <td>4230.000000</td>\n",
       "      <td>4230.000000</td>\n",
       "    </tr>\n",
       "    <tr>\n",
       "      <th>mean</th>\n",
       "      <td>2114.500000</td>\n",
       "      <td>1994.166667</td>\n",
       "      <td>2.423329e+07</td>\n",
       "      <td>1.659778</td>\n",
       "      <td>3.271283e+05</td>\n",
       "      <td>-4.121513e+00</td>\n",
       "      <td>21.789243</td>\n",
       "      <td>3.324785</td>\n",
       "      <td>52.558869</td>\n",
       "      <td>1.167059e+07</td>\n",
       "      <td>0.425392</td>\n",
       "      <td>117.183452</td>\n",
       "    </tr>\n",
       "    <tr>\n",
       "      <th>std</th>\n",
       "      <td>1221.240148</td>\n",
       "      <td>21.723653</td>\n",
       "      <td>1.063217e+08</td>\n",
       "      <td>1.650514</td>\n",
       "      <td>1.329164e+06</td>\n",
       "      <td>9.808264e+04</td>\n",
       "      <td>11.751355</td>\n",
       "      <td>2.289232</td>\n",
       "      <td>26.768449</td>\n",
       "      <td>4.665141e+07</td>\n",
       "      <td>1.800249</td>\n",
       "      <td>68.058075</td>\n",
       "    </tr>\n",
       "    <tr>\n",
       "      <th>min</th>\n",
       "      <td>0.000000</td>\n",
       "      <td>1955.000000</td>\n",
       "      <td>6.440000e+02</td>\n",
       "      <td>-12.930000</td>\n",
       "      <td>-6.730240e+05</td>\n",
       "      <td>-1.077397e+06</td>\n",
       "      <td>0.000000</td>\n",
       "      <td>0.000000</td>\n",
       "      <td>0.000000</td>\n",
       "      <td>0.000000e+00</td>\n",
       "      <td>0.000000</td>\n",
       "      <td>1.000000</td>\n",
       "    </tr>\n",
       "    <tr>\n",
       "      <th>25%</th>\n",
       "      <td>1057.250000</td>\n",
       "      <td>1975.000000</td>\n",
       "      <td>2.733908e+05</td>\n",
       "      <td>0.610000</td>\n",
       "      <td>1.201750e+03</td>\n",
       "      <td>-8.997000e+03</td>\n",
       "      <td>17.200000</td>\n",
       "      <td>1.690000</td>\n",
       "      <td>31.200000</td>\n",
       "      <td>1.148200e+05</td>\n",
       "      <td>0.000000</td>\n",
       "      <td>58.000000</td>\n",
       "    </tr>\n",
       "    <tr>\n",
       "      <th>50%</th>\n",
       "      <td>2114.500000</td>\n",
       "      <td>1997.500000</td>\n",
       "      <td>3.603262e+06</td>\n",
       "      <td>1.530000</td>\n",
       "      <td>3.730850e+04</td>\n",
       "      <td>0.000000e+00</td>\n",
       "      <td>20.700000</td>\n",
       "      <td>2.790000</td>\n",
       "      <td>52.500000</td>\n",
       "      <td>1.479994e+06</td>\n",
       "      <td>0.070000</td>\n",
       "      <td>117.000000</td>\n",
       "    </tr>\n",
       "    <tr>\n",
       "      <th>75%</th>\n",
       "      <td>3171.750000</td>\n",
       "      <td>2016.000000</td>\n",
       "      <td>1.276953e+07</td>\n",
       "      <td>2.590000</td>\n",
       "      <td>2.038582e+05</td>\n",
       "      <td>2.225250e+03</td>\n",
       "      <td>30.000000</td>\n",
       "      <td>5.347500</td>\n",
       "      <td>74.300000</td>\n",
       "      <td>6.588019e+06</td>\n",
       "      <td>0.250000</td>\n",
       "      <td>176.000000</td>\n",
       "    </tr>\n",
       "    <tr>\n",
       "      <th>max</th>\n",
       "      <td>4229.000000</td>\n",
       "      <td>2020.000000</td>\n",
       "      <td>1.439324e+09</td>\n",
       "      <td>23.300000</td>\n",
       "      <td>2.067648e+07</td>\n",
       "      <td>1.771991e+06</td>\n",
       "      <td>48.400000</td>\n",
       "      <td>8.800000</td>\n",
       "      <td>100.000000</td>\n",
       "      <td>8.750759e+08</td>\n",
       "      <td>22.700000</td>\n",
       "      <td>235.000000</td>\n",
       "    </tr>\n",
       "  </tbody>\n",
       "</table>\n",
       "</div>"
      ],
      "text/plain": [
       "             Sl No         Year    Population  Yearly%Change  YearlyChange  \\\n",
       "count  4230.000000  4230.000000  4.230000e+03    4230.000000  4.230000e+03   \n",
       "mean   2114.500000  1994.166667  2.423329e+07       1.659778  3.271283e+05   \n",
       "std    1221.240148    21.723653  1.063217e+08       1.650514  1.329164e+06   \n",
       "min       0.000000  1955.000000  6.440000e+02     -12.930000 -6.730240e+05   \n",
       "25%    1057.250000  1975.000000  2.733908e+05       0.610000  1.201750e+03   \n",
       "50%    2114.500000  1997.500000  3.603262e+06       1.530000  3.730850e+04   \n",
       "75%    3171.750000  2016.000000  1.276953e+07       2.590000  2.038582e+05   \n",
       "max    4229.000000  2020.000000  1.439324e+09      23.300000  2.067648e+07   \n",
       "\n",
       "       Migrants(net)    MedianAge  FertilityRate    UrbanPop%  \\\n",
       "count   4.230000e+03  4230.000000    4230.000000  4230.000000   \n",
       "mean   -4.121513e+00    21.789243       3.324785    52.558869   \n",
       "std     9.808264e+04    11.751355       2.289232    26.768449   \n",
       "min    -1.077397e+06     0.000000       0.000000     0.000000   \n",
       "25%    -8.997000e+03    17.200000       1.690000    31.200000   \n",
       "50%     0.000000e+00    20.700000       2.790000    52.500000   \n",
       "75%     2.225250e+03    30.000000       5.347500    74.300000   \n",
       "max     1.771991e+06    48.400000       8.800000   100.000000   \n",
       "\n",
       "       UrbanPopulation  Country%OfWorldPop   GlobalRank  \n",
       "count     4.230000e+03         4230.000000  4230.000000  \n",
       "mean      1.167059e+07            0.425392   117.183452  \n",
       "std       4.665141e+07            1.800249    68.058075  \n",
       "min       0.000000e+00            0.000000     1.000000  \n",
       "25%       1.148200e+05            0.000000    58.000000  \n",
       "50%       1.479994e+06            0.070000   117.000000  \n",
       "75%       6.588019e+06            0.250000   176.000000  \n",
       "max       8.750759e+08           22.700000   235.000000  "
      ]
     },
     "execution_count": 64,
     "metadata": {},
     "output_type": "execute_result"
    }
   ],
   "source": [
    "p.describe()"
   ]
  },
  {
   "cell_type": "code",
   "execution_count": 65,
   "id": "23d15d61",
   "metadata": {},
   "outputs": [
    {
     "name": "stdout",
     "output_type": "stream",
     "text": [
      "<class 'pandas.core.frame.DataFrame'>\n",
      "RangeIndex: 4230 entries, 0 to 4229\n",
      "Data columns (total 14 columns):\n",
      " #   Column              Non-Null Count  Dtype  \n",
      "---  ------              --------------  -----  \n",
      " 0   Sl No               4230 non-null   int64  \n",
      " 1   Continent           4230 non-null   object \n",
      " 2   Country             4230 non-null   object \n",
      " 3   Year                4230 non-null   int64  \n",
      " 4   Population          4230 non-null   int64  \n",
      " 5   Yearly%Change       4230 non-null   float64\n",
      " 6   YearlyChange        4230 non-null   int64  \n",
      " 7   Migrants(net)       4230 non-null   int64  \n",
      " 8   MedianAge           4230 non-null   float64\n",
      " 9   FertilityRate       4230 non-null   float64\n",
      " 10  UrbanPop%           4230 non-null   float64\n",
      " 11  UrbanPopulation     4230 non-null   int64  \n",
      " 12  Country%OfWorldPop  4230 non-null   float64\n",
      " 13  GlobalRank          4230 non-null   int64  \n",
      "dtypes: float64(5), int64(7), object(2)\n",
      "memory usage: 462.8+ KB\n"
     ]
    }
   ],
   "source": [
    "p.info()"
   ]
  },
  {
   "cell_type": "code",
   "execution_count": 73,
   "id": "34ff9db8",
   "metadata": {},
   "outputs": [
    {
     "data": {
      "text/plain": [
       "(4230, 14)"
      ]
     },
     "execution_count": 73,
     "metadata": {},
     "output_type": "execute_result"
    }
   ],
   "source": [
    "p.shape"
   ]
  },
  {
   "cell_type": "code",
   "execution_count": 76,
   "id": "201f8b2b",
   "metadata": {},
   "outputs": [
    {
     "data": {
      "text/plain": [
       "Sl No                 0\n",
       "Continent             0\n",
       "Country               0\n",
       "Year                  0\n",
       "Population            0\n",
       "Yearly%Change         0\n",
       "YearlyChange          0\n",
       "Migrants(net)         0\n",
       "MedianAge             0\n",
       "FertilityRate         0\n",
       "UrbanPop%             0\n",
       "UrbanPopulation       0\n",
       "Country%OfWorldPop    0\n",
       "GlobalRank            0\n",
       "dtype: int64"
      ]
     },
     "execution_count": 76,
     "metadata": {},
     "output_type": "execute_result"
    }
   ],
   "source": [
    "p.isnull().sum()"
   ]
  },
  {
   "cell_type": "code",
   "execution_count": 77,
   "id": "3b30a3ef",
   "metadata": {},
   "outputs": [
    {
     "data": {
      "text/plain": [
       "Sl No  Continent  Country      Year  Population  Yearly%Change  YearlyChange  Migrants(net)  MedianAge  FertilityRate  UrbanPop%  UrbanPopulation  Country%OfWorldPop  GlobalRank\n",
       "0      Asia       Afghanistan  1955  8270991      1.30           103775       -4000          19.2       7.45           7.1        587818           0.30                48            1\n",
       "2825   Europe     Norway       2020  5421241      0.79           42384         28000         39.8       1.68           83.4       4521838          0.07                119           1\n",
       "2811   Europe     Norway       1970  3876060      0.80           30319         836           32.9       2.80           65.4       2534798          0.10                96            1\n",
       "2812   Europe     Norway       1975  4008031      0.67           26394         3174          32.4       2.35           68.2       2732942          0.10                100           1\n",
       "2813   Europe     Norway       1980  4086076      0.39           15609         4146          33.3       1.81           70.5       2882531          0.09                104           1\n",
       "                                                                                                                                                                                    ..\n",
       "1415   Europe     Germany      2010  80827002    -0.19          -155148        8617          44.3       1.36           77.0       62261612         1.16                16            1\n",
       "1416   Europe     Germany      2015  81787411     0.24           192082        387715        45.9       1.43           77.1       63078413         1.11                16            1\n",
       "1417   Europe     Germany      2016  82193768     0.50           406357        543822        45.9       1.46           77.0       63257479         1.10                16            1\n",
       "1418   Europe     Germany      2017  82658409     0.57           464641        543822        45.9       1.46           76.8       63442124         1.10                16            1\n",
       "4229   Africa     Zimbabwe     2020  14862924     1.48           217456       -116858        18.7       3.63           38.4       5700460          0.19                74            1\n",
       "Length: 4230, dtype: int64"
      ]
     },
     "execution_count": 77,
     "metadata": {},
     "output_type": "execute_result"
    }
   ],
   "source": [
    "p.value_counts()"
   ]
  },
  {
   "cell_type": "code",
   "execution_count": 78,
   "id": "d1043469",
   "metadata": {},
   "outputs": [
    {
     "data": {
      "text/plain": [
       "Index(['Sl No', 'Continent', 'Country', 'Year', 'Population', 'Yearly%Change',\n",
       "       'YearlyChange', 'Migrants(net)', 'MedianAge', 'FertilityRate',\n",
       "       'UrbanPop%', 'UrbanPopulation', 'Country%OfWorldPop', 'GlobalRank'],\n",
       "      dtype='object')"
      ]
     },
     "execution_count": 78,
     "metadata": {},
     "output_type": "execute_result"
    }
   ],
   "source": [
    "p.columns"
   ]
  },
  {
   "cell_type": "code",
   "execution_count": 97,
   "id": "4efde2b1",
   "metadata": {},
   "outputs": [
    {
     "data": {
      "text/plain": [
       "Text(0.5, 1.0, 'Population Diffrence between Countries')"
      ]
     },
     "execution_count": 97,
     "metadata": {},
     "output_type": "execute_result"
    },
    {
     "data": {
      "image/png": "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\n",
      "text/plain": [
       "<Figure size 780x500 with 1 Axes>"
      ]
     },
     "metadata": {},
     "output_type": "display_data"
    }
   ],
   "source": [
    "a=sns.relplot(x='Year', y= 'Population',hue='Continent', data=p)\n",
    "plt.title(\"Population Diffrence between Countries\",fontsize=15)"
   ]
  },
  {
   "cell_type": "code",
   "execution_count": 87,
   "id": "1d424291",
   "metadata": {},
   "outputs": [],
   "source": [
    "con=p['Continent']\n",
    "coun=p['Country']\n",
    "pop=p['Population']\n",
    "gr=p['GlobalRank']"
   ]
  },
  {
   "cell_type": "code",
   "execution_count": 96,
   "id": "f9048ee9",
   "metadata": {},
   "outputs": [
    {
     "data": {
      "text/plain": [
       "Text(0.5, 1.0, 'Population Along with Global Rank based on Continents')"
      ]
     },
     "execution_count": 96,
     "metadata": {},
     "output_type": "execute_result"
    },
    {
     "data": {
      "image/png": "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\n",
      "text/plain": [
       "<Figure size 780x500 with 1 Axes>"
      ]
     },
     "metadata": {},
     "output_type": "display_data"
    }
   ],
   "source": [
    "b=sns.relplot(x=pop, y=gr,hue=con, data=p)\n",
    "plt.title('Population Along with Global Rank based on Continents',fontsize=13)"
   ]
  },
  {
   "cell_type": "code",
   "execution_count": 99,
   "id": "82c2e93f",
   "metadata": {},
   "outputs": [
    {
     "data": {
      "text/plain": [
       "['Sl No',\n",
       " 'Continent',\n",
       " 'Country',\n",
       " 'Year',\n",
       " 'Population',\n",
       " 'Yearly%Change',\n",
       " 'YearlyChange',\n",
       " 'Migrants(net)',\n",
       " 'MedianAge',\n",
       " 'FertilityRate',\n",
       " 'UrbanPop%',\n",
       " 'UrbanPopulation',\n",
       " 'Country%OfWorldPop',\n",
       " 'GlobalRank']"
      ]
     },
     "execution_count": 99,
     "metadata": {},
     "output_type": "execute_result"
    }
   ],
   "source": [
    "#modeling\n",
    "li1=list(p.columns)#lets find the categorialfeatures\n",
    "li1"
   ]
  },
  {
   "cell_type": "code",
   "execution_count": 108,
   "id": "cfa8c934",
   "metadata": {},
   "outputs": [
    {
     "data": {
      "text/plain": [
       "['Continent', 'Country']"
      ]
     },
     "execution_count": 108,
     "metadata": {},
     "output_type": "execute_result"
    }
   ],
   "source": [
    "lica1=[]#list category based on object type data\n",
    "for i in li1:\n",
    "    if p[i].dtype=='object':\n",
    "        lica1.append(i)\n",
    "lica1"
   ]
  },
  {
   "cell_type": "code",
   "execution_count": 109,
   "id": "3b9e790c",
   "metadata": {},
   "outputs": [
    {
     "data": {
      "text/plain": [
       "['Sl No',\n",
       " 'Year',\n",
       " 'Population',\n",
       " 'YearlyChange',\n",
       " 'Migrants(net)',\n",
       " 'UrbanPopulation',\n",
       " 'GlobalRank']"
      ]
     },
     "execution_count": 109,
     "metadata": {},
     "output_type": "execute_result"
    }
   ],
   "source": [
    "lica2=[]#list category based on integer type data\n",
    "for i in li1:\n",
    "    if p[i].dtype=='int64':\n",
    "        lica2.append(i)\n",
    "lica2"
   ]
  },
  {
   "cell_type": "code",
   "execution_count": 110,
   "id": "59eac3cc",
   "metadata": {},
   "outputs": [
    {
     "data": {
      "text/plain": [
       "['Yearly%Change',\n",
       " 'MedianAge',\n",
       " 'FertilityRate',\n",
       " 'UrbanPop%',\n",
       " 'Country%OfWorldPop']"
      ]
     },
     "execution_count": 110,
     "metadata": {},
     "output_type": "execute_result"
    }
   ],
   "source": [
    "lica3=[]#list category based on float type data\n",
    "for i in li1:\n",
    "    if p[i].dtype=='float':\n",
    "        lica3.append(i)\n",
    "lica3"
   ]
  },
  {
   "cell_type": "code",
   "execution_count": 106,
   "id": "28fc3e95",
   "metadata": {},
   "outputs": [],
   "source": [
    "le=LabelEncoder()"
   ]
  },
  {
   "cell_type": "code",
   "execution_count": 120,
   "id": "112d4804",
   "metadata": {},
   "outputs": [],
   "source": [
    "for i in lica1:\n",
    "    p[i]=le.fit_transform(p[i])"
   ]
  },
  {
   "cell_type": "code",
   "execution_count": 124,
   "id": "e06712db",
   "metadata": {},
   "outputs": [],
   "source": [
    "y=p['Year']\n",
    "x=p.drop('Year',axis=1)"
   ]
  },
  {
   "cell_type": "code",
   "execution_count": 125,
   "id": "91a24ccf",
   "metadata": {},
   "outputs": [],
   "source": [
    "#testing and training data\n",
    "x_train,x_test,y_train,y_test=train_test_split(x,y,random_state=0,test_size=0.2)"
   ]
  },
  {
   "cell_type": "code",
   "execution_count": 128,
   "id": "04e1fb67",
   "metadata": {},
   "outputs": [
    {
     "name": "stdout",
     "output_type": "stream",
     "text": [
      "3384\n",
      "846\n",
      "3384\n",
      "846\n"
     ]
    }
   ],
   "source": [
    "print(len(x_train))\n",
    "print(len(x_test))\n",
    "print(len(y_train))\n",
    "print(len(y_test))"
   ]
  },
  {
   "cell_type": "code",
   "execution_count": 129,
   "id": "4a0eeaa3",
   "metadata": {},
   "outputs": [],
   "source": [
    "reg = LinearRegression()\n",
    "#lr = linear_model.LinearRegression()"
   ]
  },
  {
   "cell_type": "code",
   "execution_count": 130,
   "id": "8594e0c2",
   "metadata": {},
   "outputs": [],
   "source": [
    "reg = reg.fit(x_train,y_train)"
   ]
  },
  {
   "cell_type": "code",
   "execution_count": 142,
   "id": "42cf97ac",
   "metadata": {},
   "outputs": [],
   "source": [
    "pred = reg.predict(x_test) #predicting"
   ]
  },
  {
   "cell_type": "code",
   "execution_count": 144,
   "id": "fa9b0881",
   "metadata": {},
   "outputs": [
    {
     "data": {
      "text/plain": [
       "96.56658887939426"
      ]
     },
     "execution_count": 144,
     "metadata": {},
     "output_type": "execute_result"
    }
   ],
   "source": [
    "reg.score(x_test,y_test)*100 #accuracy test using linear regression"
   ]
  },
  {
   "cell_type": "code",
   "execution_count": null,
   "id": "57e95130",
   "metadata": {},
   "outputs": [],
   "source": []
  }
 ],
 "metadata": {
  "kernelspec": {
   "display_name": "Python 3 (ipykernel)",
   "language": "python",
   "name": "python3"
  },
  "language_info": {
   "codemirror_mode": {
    "name": "ipython",
    "version": 3
   },
   "file_extension": ".py",
   "mimetype": "text/x-python",
   "name": "python",
   "nbconvert_exporter": "python",
   "pygments_lexer": "ipython3",
   "version": "3.11.1"
  }
 },
 "nbformat": 4,
 "nbformat_minor": 5
}
